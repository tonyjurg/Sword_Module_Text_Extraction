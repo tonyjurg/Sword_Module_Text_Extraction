{
 "cells": [
  {
   "cell_type": "markdown",
   "id": "2e1be3eb-9fbd-47b0-a335-139346f42d58",
   "metadata": {},
   "source": [
    "# Extracting Biblical text from Sword modules using PySword"
   ]
  },
  {
   "cell_type": "markdown",
   "id": "a996e806-ce35-48bf-8e2d-a34c255cd425",
   "metadata": {},
   "source": [
    "## Introduction"
   ]
  },
  {
   "cell_type": "markdown",
   "id": "2b518e7a-9f74-46c5-b883-97c5a2dd2458",
   "metadata": {},
   "source": [
    "This notebook demonstrates how to extract Biblical text from Sword modules using the [`pysword`](https://pypi.org/project/pysword/) library in Python. The `pysword` library provides an interface for accessing and parsing text from [Sword Project modules](http://crosswire.org/sword/modules/), which are widely used for digital Bible resources. In this example, we will load one Sword module and extract the the surface text for a specific book, chapter, and verse, and showcase how to display the extracted content. \n",
    "\n",
    "For more information about the Sword Project, visit [The CrossWire Bible Society](http://crosswire.org/sword/).\n",
    "\n",
    "An overview of available modules is available [here](https://crosswire.org/sword/modules/ModDisp.jsp?modType=Bibles)."
   ]
  },
  {
   "cell_type": "markdown",
   "id": "6521c821-3ba2-4e55-b424-b82aec098b67",
   "metadata": {},
   "source": [
    "## Install pysword"
   ]
  },
  {
   "cell_type": "code",
   "execution_count": 1,
   "id": "18d01c01-29ab-47b9-a1c9-6fc41dee9f9d",
   "metadata": {},
   "outputs": [
    {
     "name": "stdout",
     "output_type": "stream",
     "text": [
      "Collecting pysword\n",
      "  Downloading pysword-0.2.8.tar.gz (28 kB)\n",
      "  Preparing metadata (setup.py): started\n",
      "  Preparing metadata (setup.py): finished with status 'done'\n",
      "Building wheels for collected packages: pysword\n",
      "  Building wheel for pysword (setup.py): started\n",
      "  Building wheel for pysword (setup.py): finished with status 'done'\n",
      "  Created wheel for pysword: filename=pysword-0.2.8-py3-none-any.whl size=34706 sha256=af5f29a379b018962b081452e7015c786b70e47550c1600c9ceb1436562411c5\n",
      "  Stored in directory: c:\\users\\tonyj\\appdata\\local\\pip\\cache\\wheels\\81\\1d\\29\\9a3c7feda4987b88abb827b7f60bc8a37f0c422e1cac65c79e\n",
      "Successfully built pysword\n",
      "Installing collected packages: pysword\n",
      "Successfully installed pysword-0.2.8\n"
     ]
    }
   ],
   "source": [
    "!pip install pysword"
   ]
  },
  {
   "cell_type": "markdown",
   "id": "9b3a0944-1440-4132-9bf4-6162ec825ea3",
   "metadata": {},
   "source": [
    "## Load pysword and show module(s)"
   ]
  },
  {
   "cell_type": "markdown",
   "id": "30b59c68-d3e5-4c05-8a1e-d70d7cf41e2d",
   "metadata": {},
   "source": [
    "The module to be loaded is containing the text of the Greek Old Testament (LXX):"
   ]
  },
  {
   "cell_type": "code",
   "execution_count": 2,
   "id": "add552ab-5ded-4432-b51d-772dddf3ff80",
   "metadata": {},
   "outputs": [
    {
     "name": "stdout",
     "output_type": "stream",
     "text": [
      "Available modules: {'LXX': {'description': \"Septuagint, Morphologically Tagged Rahlfs'\", 'datapath': './modules/texts/ztext/lxx/', 'moddrv': 'zText', 'sourcetype': 'OSIS', 'encoding': 'UTF-8', 'compresstype': 'ZIP', 'blocktype': 'BOOK', 'versification': 'LXX', 'globaloptionfilter': 'UTF8GreekAccents', 'font': 'FreeSerif', 'feature': 'StrongsNumbers', 'about': '\\\\pard The Analytic Septuagint was prepared by Steve Amato of the Boston Christian Bible Study Resources http://www.bcbsr.com\\\\par\\\\par Morphology was included from the LXXM (see below)\\\\par The The Analytic Septuagint is not to be used, either directly or indirectly, for commercial purposes without prior written consent of Steve Amato and the legal authors and developers of the morphology of the LXXM identified below.\\\\par\\\\par The LXXM = The morphologically analyzed text of CATSS LXX prepared by CATSS under the direction of R. Kraft (Philadelphia team)\\\\par\\\\par The CATSS LXX = The computer form prepared by the TLG (Thesaurus Linguae Graecae) Project directed by T. Brunner at the University of California, Irvine, with further verification and adaptation (in process) by CATSS towards conformity with the individual Göttingen editions that have appeared since 1935.\\\\par\\\\par The LXX = Septuaginta, ed. A. Rahlfs (Stuttgart: Württembergische Bibelanstalt, 1935; repr. in 9th ed., 1971).\\\\par\\\\par Greek Septuagint Version 270 BC', 'swordversiondate': '2022-08-23', 'version': '3.0', 'history_1.1': 'Replaced missing sections of Isaiah and switched to more descriptive tags for morphology', 'history_1.2': 'changed to book granularity, which makes module about half as large and removed some extraneous verse references', 'history_2.0': 'replaced LXX with LXXM and obsoleted old LXX module', 'history_2.5': 'updated to latest version of LXXM from Steve Amato, migrated to OSIS, converted .conf to UTF-8', 'history_2.6': 'new module with new v11n', 'history_2.7': 'new module from scratch', 'history_3.0': '(2022-08-23) : This version uses again Pierre build. It comes with small corrections in conf. According to MOD-415. The version grow to 3.0. We have also to decide what we want to do with the lex entries.', 'minimumversion': '1.7.2', 'lcsh': 'Bible.Ancient Greek (to 1453).O.T.', 'lang': 'grc', 'obsoletes': 'LXXM', 'osisversion': '2.1.1', 'scope': 'Gen-Mal', 'distributionlicense': 'Copyrighted; Free non-commercial distribution', 'textsource': 'http://ccat.sas.upenn.edu/gopher/text/religion/biblical/lxxmorph/', 'installsize': '8391035'}}\n"
     ]
    }
   ],
   "source": [
    "from pysword.modules import SwordModules\n",
    "from pysword.bible import SwordBible\n",
    "\n",
    "# Path to the SWORD modules directory\n",
    "modules_path = \"LXX\"\n",
    "modules = SwordModules(modules_path)\n",
    "\n",
    "# List all available modules\n",
    "available_modules = modules.parse_modules()\n",
    "print(\"Available modules:\", available_modules)"
   ]
  },
  {
   "cell_type": "markdown",
   "id": "a03f75f6-e6dc-40e9-a7ae-e0d265af688d",
   "metadata": {},
   "source": [
    "## Select and load the module"
   ]
  },
  {
   "cell_type": "code",
   "execution_count": 3,
   "id": "94f8d694-7c92-4dd4-90a4-95a6fcb88a86",
   "metadata": {},
   "outputs": [],
   "source": [
    "bible = modules.get_bible_from_module(u'LXX')\n"
   ]
  },
  {
   "cell_type": "markdown",
   "id": "e2b4d67c-50b5-4bf5-ac7e-8aaaa29e4407",
   "metadata": {},
   "source": [
    "## Get a list on books "
   ]
  },
  {
   "cell_type": "code",
   "execution_count": 4,
   "id": "c329df30-310a-4b11-a4a5-9a7ec37d332b",
   "metadata": {},
   "outputs": [
    {
     "name": "stdout",
     "output_type": "stream",
     "text": [
      "dict_values([[Book(Genesis), Book(Exodus), Book(Leviticus), Book(Numbers), Book(Deuteronomy), Book(Joshua), Book(Judges), Book(Ruth), Book(I Samuel), Book(II Samuel), Book(I Kings), Book(II Kings), Book(I Chronicles), Book(II Chronicles), Book(I Esdras), Book(Ezra), Book(Nehemiah), Book(Esther), Book(Judith), Book(Tobit), Book(I Maccabees), Book(II Maccabees), Book(III Maccabees), Book(IV Maccabees), Book(Psalms), Book(Prayer of Manasses), Book(Proverbs), Book(Ecclesiastes), Book(Song of Solomon), Book(Job), Book(Wisdom), Book(Sirach), Book(Psalms of Solomon), Book(Hosea), Book(Amos), Book(Micah), Book(Joel), Book(Obadiah), Book(Jonah), Book(Nahum), Book(Habakkuk), Book(Zephaniah), Book(Haggai), Book(Zechariah), Book(Malachi), Book(Isaiah), Book(Jeremiah), Book(Baruch), Book(Lamentations), Book(Epistle of Jeremiah), Book(Ezekiel), Book(Prayer of Azariah), Book(Susanna), Book(Daniel), Book(Bel and the Dragon), Book(I Enoch), Book(Odes)]])\n"
     ]
    }
   ],
   "source": [
    "print (bible.get_structure().get_books().values())"
   ]
  },
  {
   "cell_type": "markdown",
   "id": "4efc046e-ed4a-4946-8d0f-04f6e0a49a42",
   "metadata": {},
   "source": [
    "## Get the text of a specific verse"
   ]
  },
  {
   "cell_type": "code",
   "execution_count": 5,
   "id": "ef77c42b-d062-419c-860f-2d3e9964b0b0",
   "metadata": {},
   "outputs": [
    {
     "name": "stdout",
     "output_type": "stream",
     "text": [
      "ἡ δὲ γῆ ἦν ἀόρατος καὶ ἀκατασκεύαστος καὶ σκότος ἐπάνω τῆς ἀβύσσου καὶ πνεῦμα θεοῦ ἐπεφέρετο ἐπάνω τοῦ ὕδατος \n"
     ]
    }
   ],
   "source": [
    "output = bible.get(books=[u'Genesis'], chapters=[1], verses=[2])\n",
    "print (output)"
   ]
  },
  {
   "cell_type": "markdown",
   "id": "cfe4c2ad-1d8d-4d40-a602-83c46d4af26f",
   "metadata": {},
   "source": [
    "## Get the text of a full chapter"
   ]
  },
  {
   "cell_type": "code",
   "execution_count": 6,
   "id": "3cbfc199-5331-4019-9d55-08eaff58198f",
   "metadata": {},
   "outputs": [
    {
     "name": "stdout",
     "output_type": "stream",
     "text": [
      "ἐν ἀρχῇ ἐποίησεν ὁ θεὸς τὸν οὐρανὸν καὶ τὴν γῆν \n",
      "ἡ δὲ γῆ ἦν ἀόρατος καὶ ἀκατασκεύαστος καὶ σκότος ἐπάνω τῆς ἀβύσσου καὶ πνεῦμα θεοῦ ἐπεφέρετο ἐπάνω τοῦ ὕδατος \n",
      "καὶ εἶπεν ὁ θεός γενηθήτω φῶς καὶ ἐγένετο φῶς \n",
      "καὶ εἶδεν ὁ θεὸς τὸ φῶς ὅτι καλόν καὶ διεχώρισεν ὁ θεὸς ἀνὰ μέσον τοῦ φωτὸς καὶ ἀνὰ μέσον τοῦ σκότους \n",
      "καὶ ἐκάλεσεν ὁ θεὸς τὸ φῶς ἡμέραν καὶ τὸ σκότος ἐκάλεσεν νύκτα καὶ ἐγένετο ἑσπέρα καὶ ἐγένετο πρωί ἡμέρα μία \n",
      "καὶ εἶπεν ὁ θεός γενηθήτω στερέωμα ἐν μέσῳ τοῦ ὕδατος καὶ ἔστω διαχωρίζον ἀνὰ μέσον ὕδατος καὶ ὕδατος καὶ ἐγένετο οὕτως \n",
      "καὶ ἐποίησεν ὁ θεὸς τὸ στερέωμα καὶ διεχώρισεν ὁ θεὸς ἀνὰ μέσον τοῦ ὕδατος ὃ ἦν ὑποκάτω τοῦ στερεώματος καὶ ἀνὰ μέσον τοῦ ὕδατος τοῦ ἐπάνω τοῦ στερεώματος \n",
      "καὶ ἐκάλεσεν ὁ θεὸς τὸ στερέωμα οὐρανόν καὶ εἶδεν ὁ θεὸς ὅτι καλόν καὶ ἐγένετο ἑσπέρα καὶ ἐγένετο πρωί ἡμέρα δευτέρα \n",
      "καὶ εἶπεν ὁ θεός συναχθήτω τὸ ὕδωρ τὸ ὑποκάτω τοῦ οὐρανοῦ εἰς συναγωγὴν μίαν καὶ ὀφθήτω ἡ ξηρά καὶ ἐγένετο οὕτως καὶ συνήχθη τὸ ὕδωρ τὸ ὑποκάτω τοῦ οὐρανοῦ εἰς τὰς συναγωγὰς αὐτῶν καὶ ὤφθη ἡ ξηρά \n",
      "καὶ ἐκάλεσεν ὁ θεὸς τὴν ξηρὰν γῆν καὶ τὰ συστήματα τῶν ὑδάτων ἐκάλεσεν θαλάσσας καὶ εἶδεν ὁ θεὸς ὅτι καλόν \n",
      "καὶ εἶπεν ὁ θεός βλαστησάτω ἡ γῆ βοτάνην χόρτου σπεῖρον σπέρμα κατὰ γένος καὶ καθ’ ὁμοιότητα καὶ ξύλον κάρπιμον ποιοῦν καρπόν οὗ τὸ σπέρμα αὐτοῦ ἐν αὐτῷ κατὰ γένος ἐπὶ τῆς γῆς καὶ ἐγένετο οὕτως \n",
      "καὶ ἐξήνεγκεν ἡ γῆ βοτάνην χόρτου σπεῖρον σπέρμα κατὰ γένος καὶ καθ’ ὁμοιότητα καὶ ξύλον κάρπιμον ποιοῦν καρπόν οὗ τὸ σπέρμα αὐτοῦ ἐν αὐτῷ κατὰ γένος ἐπὶ τῆς γῆς καὶ εἶδεν ὁ θεὸς ὅτι καλόν \n",
      "καὶ ἐγένετο ἑσπέρα καὶ ἐγένετο πρωί ἡμέρα τρίτη \n",
      "καὶ εἶπεν ὁ θεός γενηθήτωσαν φωστῆρες ἐν τῷ στερεώματι τοῦ οὐρανοῦ εἰς φαῦσιν τῆς γῆς τοῦ διαχωρίζειν ἀνὰ μέσον τῆς ἡμέρας καὶ ἀνὰ μέσον τῆς νυκτὸς καὶ ἔστωσαν εἰς σημεῖα καὶ εἰς καιροὺς καὶ εἰς ἡμέρας καὶ εἰς ἐνιαυτοὺς \n",
      "καὶ ἔστωσαν εἰς φαῦσιν ἐν τῷ στερεώματι τοῦ οὐρανοῦ ὥστε φαίνειν ἐπὶ τῆς γῆς καὶ ἐγένετο οὕτως \n",
      "καὶ ἐποίησεν ὁ θεὸς τοὺς δύο φωστῆρας τοὺς μεγάλους τὸν φωστῆρα τὸν μέγαν εἰς ἀρχὰς τῆς ἡμέρας καὶ τὸν φωστῆρα τὸν ἐλάσσω εἰς ἀρχὰς τῆς νυκτός καὶ τοὺς ἀστέρας \n",
      "καὶ ἔθετο αὐτοὺς ὁ θεὸς ἐν τῷ στερεώματι τοῦ οὐρανοῦ ὥστε φαίνειν ἐπὶ τῆς γῆς \n",
      "καὶ ἄρχειν τῆς ἡμέρας καὶ τῆς νυκτὸς καὶ διαχωρίζειν ἀνὰ μέσον τοῦ φωτὸς καὶ ἀνὰ μέσον τοῦ σκότους καὶ εἶδεν ὁ θεὸς ὅτι καλόν \n",
      "καὶ ἐγένετο ἑσπέρα καὶ ἐγένετο πρωί ἡμέρα τετάρτη \n",
      "καὶ εἶπεν ὁ θεός ἐξαγαγέτω τὰ ὕδατα ἑρπετὰ ψυχῶν ζωσῶν καὶ πετεινὰ πετόμενα ἐπὶ τῆς γῆς κατὰ τὸ στερέωμα τοῦ οὐρανοῦ καὶ ἐγένετο οὕτως \n",
      "καὶ ἐποίησεν ὁ θεὸς τὰ κήτη τὰ μεγάλα καὶ πᾶσαν ψυχὴν ζῴων ἑρπετῶν ἃ ἐξήγαγεν τὰ ὕδατα κατὰ γένη αὐτῶν καὶ πᾶν πετεινὸν πτερωτὸν κατὰ γένος καὶ εἶδεν ὁ θεὸς ὅτι καλά \n",
      "καὶ ηὐλόγησεν αὐτὰ ὁ θεὸς λέγων αὐξάνεσθε καὶ πληθύνεσθε καὶ πληρώσατε τὰ ὕδατα ἐν ταῖς θαλάσσαις καὶ τὰ πετεινὰ πληθυνέσθωσαν ἐπὶ τῆς γῆς \n",
      "καὶ ἐγένετο ἑσπέρα καὶ ἐγένετο πρωί ἡμέρα πέμπτη \n",
      "καὶ εἶπεν ὁ θεός ἐξαγαγέτω ἡ γῆ ψυχὴν ζῶσαν κατὰ γένος τετράποδα καὶ ἑρπετὰ καὶ θηρία τῆς γῆς κατὰ γένος καὶ ἐγένετο οὕτως \n",
      "καὶ ἐποίησεν ὁ θεὸς τὰ θηρία τῆς γῆς κατὰ γένος καὶ τὰ κτήνη κατὰ γένος καὶ πάντα τὰ ἑρπετὰ τῆς γῆς κατὰ γένος αὐτῶν καὶ εἶδεν ὁ θεὸς ὅτι καλά \n",
      "καὶ εἶπεν ὁ θεός ποιήσωμεν ἄνθρωπον κατ’ εἰκόνα ἡμετέραν καὶ καθ’ ὁμοίωσιν καὶ ἀρχέτωσαν τῶν ἰχθύων τῆς θαλάσσης καὶ τῶν πετεινῶν τοῦ οὐρανοῦ καὶ τῶν κτηνῶν καὶ πάσης τῆς γῆς καὶ πάντων τῶν ἑρπετῶν τῶν ἑρπόντων ἐπὶ τῆς γῆς \n",
      "καὶ ἐποίησεν ὁ θεὸς τὸν ἄνθρωπον κατ’ εἰκόνα θεοῦ ἐποίησεν αὐτόν ἄρσεν καὶ θῆλυ ἐποίησεν αὐτούς \n",
      "καὶ ηὐλόγησεν αὐτοὺς ὁ θεὸς λέγων αὐξάνεσθε καὶ πληθύνεσθε καὶ πληρώσατε τὴν γῆν καὶ κατακυριεύσατε αὐτῆς καὶ ἄρχετε τῶν ἰχθύων τῆς θαλάσσης καὶ τῶν πετεινῶν τοῦ οὐρανοῦ καὶ πάντων τῶν κτηνῶν καὶ πάσης τῆς γῆς καὶ πάντων τῶν ἑρπετῶν τῶν ἑρπόντων ἐπὶ τῆς γῆς \n",
      "καὶ εἶπεν ὁ θεός ἰδοὺ δέδωκα ὑμῖν πᾶν χόρτον σπόριμον σπεῖρον σπέρμα ὅ ἐστιν ἐπάνω πάσης τῆς γῆς καὶ πᾶν ξύλον ὃ ἔχει ἐν ἑαυτῷ καρπὸν σπέρματος σπορίμου ὑμῖν ἔσται εἰς βρῶσιν \n",
      "καὶ πᾶσι τοῖς θηρίοις τῆς γῆς καὶ πᾶσι τοῖς πετεινοῖς τοῦ οὐρανοῦ καὶ παντὶ ἑρπετῷ τῷ ἕρποντι ἐπὶ τῆς γῆς ὃ ἔχει ἐν ἑαυτῷ ψυχὴν ζωῆς πάντα χόρτον χλωρὸν εἰς βρῶσιν καὶ ἐγένετο οὕτως \n",
      "καὶ εἶδεν ὁ θεὸς τὰ πάντα ὅσα ἐποίησεν καὶ ἰδοὺ καλὰ λίαν καὶ ἐγένετο ἑσπέρα καὶ ἐγένετο πρωί ἡμέρα ἕκτη  \n"
     ]
    }
   ],
   "source": [
    "output = bible.get(books=[u'Genesis'], chapters=[1])\n",
    "print (output)"
   ]
  },
  {
   "cell_type": "code",
   "execution_count": null,
   "id": "4e5ab4af-0994-4629-9d8d-74ee2eb8228d",
   "metadata": {},
   "outputs": [],
   "source": []
  }
 ],
 "metadata": {
  "kernelspec": {
   "display_name": "Python 3 (ipykernel)",
   "language": "python",
   "name": "python3"
  },
  "language_info": {
   "codemirror_mode": {
    "name": "ipython",
    "version": 3
   },
   "file_extension": ".py",
   "mimetype": "text/x-python",
   "name": "python",
   "nbconvert_exporter": "python",
   "pygments_lexer": "ipython3",
   "version": "3.12.3"
  }
 },
 "nbformat": 4,
 "nbformat_minor": 5
}
